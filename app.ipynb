{
 "cells": [
  {
   "cell_type": "markdown",
   "metadata": {},
   "source": [
    "## Import Dependencies\n",
    "\n",
    "Dependencies are libraries that help extend the functionality of core Python."
   ]
  },
  {
   "cell_type": "code",
   "execution_count": 1,
   "metadata": {},
   "outputs": [],
   "source": [
    "from sqlalchemy import create_engine\n",
    "import pymysql\n",
    "import pandas as pd\n",
    "import flask\n",
    "import os\n",
    "\n",
    "from flask import Flask, render_template, jsonify\n",
    "from flask_sqlalchemy import SQLAlchemy\n",
    "\n",
    "pymysql.install_as_MySQLdb()"
   ]
  },
  {
   "cell_type": "markdown",
   "metadata": {},
   "source": [
    "## Import config variables\n",
    "\n",
    "The `is_heroku` variable checks to see if this code has been deployed to Heroku. If not, then read in the credentials from the `config.py` file."
   ]
  },
  {
   "cell_type": "code",
   "execution_count": 2,
   "metadata": {},
   "outputs": [],
   "source": [
    "# Heroku Check\n",
    "is_heroku = False\n",
    "if 'IS_HEROKU' in os.environ:\n",
    "    is_heroku = True\n",
    "\n",
    "if is_heroku == True:\n",
    "    remote_db_host = os.environ.get('remote_db_host')\n",
    "    remote_db_port = os.environ.get('remote_db_port')\n",
    "    remote_db_user = os.environ.get('remote_db_user')\n",
    "    remote_db_pwd = os.environ.get('remote_db_pwd')\n",
    "    remote_db_name = os.environ.get('remote_db_name')\n",
    "else:\n",
    "    from config import remote_db_host, remote_db_port, remote_db_user, remote_db_pwd, remote_db_name"
   ]
  },
  {
   "cell_type": "markdown",
   "metadata": {},
   "source": [
    "## Instantiate Flask\n",
    "\n",
    "Flask is the framework that helps serve up your site via the web. \n",
    "\n",
    "There is a bunch of documentation on it, but you can start here: https://flask.palletsprojects.com/en/1.1.x/"
   ]
  },
  {
   "cell_type": "code",
   "execution_count": 3,
   "metadata": {},
   "outputs": [],
   "source": [
    "app = Flask(__name__)"
   ]
  },
  {
   "cell_type": "markdown",
   "metadata": {},
   "source": [
    "## Create Database Connection\n",
    "\n",
    "This uses the config variables that were created earlier."
   ]
  },
  {
   "cell_type": "code",
   "execution_count": 4,
   "metadata": {},
   "outputs": [],
   "source": [
    "engine = create_engine(f'mysql://{remote_db_user}:{remote_db_pwd}@{remote_db_host}:{remote_db_port}/{remote_db_name}')"
   ]
  },
  {
   "cell_type": "markdown",
   "metadata": {},
   "source": [
    "## Create a Default Route\n",
    "\n",
    "The default route is defined at the root level. You will get this endpoint when you pull up your site by default.\n",
    "\n",
    "For example, on the localhost, you will get this route if you enter `http://localhost:5000'`\n",
    "\n",
    "Port `5000` is the default port for Flask."
   ]
  },
  {
   "cell_type": "code",
   "execution_count": 5,
   "metadata": {},
   "outputs": [],
   "source": [
    "@app.route('/')\n",
    "def index():\n",
    "    conn = engine.connect()\n",
    "\n",
    "    ksa_df = pd.read_sql('SELECT * FROM ksa', conn)\n",
    "\n",
    "    ksa_json = ksa_df.to_json(orient='records')\n",
    "\n",
    "    return render_template('index.html')"
   ]
  },
  {
   "cell_type": "markdown",
   "metadata": {},
   "source": [
    "## Create a Route for the KSA data\n",
    "\n",
    "This one is named `api/data/ksa`. The idea here is to indicate that data will be served up through an API. Technically, routes can be named whatever you'd like."
   ]
  },
  {
   "cell_type": "code",
   "execution_count": 6,
   "metadata": {},
   "outputs": [],
   "source": [
    "@app.route('/api/data/ksa')\n",
    "def ksa():\n",
    "    # establish a connection to your database\n",
    "    conn = engine.connect()\n",
    "\n",
    "    # query the `ksa` table and load it into your DataFrame\n",
    "    ksa_df = pd.read_sql('SELECT * FROM ksa', conn)\n",
    "    \n",
    "    # convert your DataFrame into `json`\n",
    "    ksa_json = ksa_df.to_json(orient='records')\n",
    "\n",
    "    # return the json to the client\n",
    "    return(ksa_json)"
   ]
  },
  {
   "cell_type": "markdown",
   "metadata": {},
   "source": [
    "## Run the App\n",
    "\n",
    "This one is named `api/data/ksa`. The idea here is to indicate that data will be served up through an API. Technically, routes can be named whatever you'd like."
   ]
  },
  {
   "cell_type": "code",
   "execution_count": null,
   "metadata": {},
   "outputs": [
    {
     "name": "stdout",
     "output_type": "stream",
     "text": [
      " * Serving Flask app \"__main__\" (lazy loading)\n",
      " * Environment: production\n",
      "   WARNING: This is a development server. Do not use it in a production deployment.\n",
      "   Use a production WSGI server instead.\n",
      " * Debug mode: off\n"
     ]
    },
    {
     "name": "stderr",
     "output_type": "stream",
     "text": [
      " * Running on http://127.0.0.1:5000/ (Press CTRL+C to quit)\n",
      "127.0.0.1 - - [21/Mar/2020 04:11:35] \"\u001b[37mGET / HTTP/1.1\u001b[0m\" 200 -\n",
      "127.0.0.1 - - [21/Mar/2020 04:11:35] \"\u001b[37mGET /api/data/ksa HTTP/1.1\u001b[0m\" 200 -\n",
      "127.0.0.1 - - [21/Mar/2020 04:11:37] \"\u001b[37mGET / HTTP/1.1\u001b[0m\" 200 -\n",
      "127.0.0.1 - - [21/Mar/2020 04:11:37] \"\u001b[37mGET /static/css/style.css HTTP/1.1\u001b[0m\" 200 -\n",
      "127.0.0.1 - - [21/Mar/2020 04:11:37] \"\u001b[37mGET /static/css/jumbotron.css HTTP/1.1\u001b[0m\" 200 -\n",
      "127.0.0.1 - - [21/Mar/2020 04:11:37] \"\u001b[37mGET /static/js/app.js HTTP/1.1\u001b[0m\" 200 -\n",
      "127.0.0.1 - - [21/Mar/2020 04:11:37] \"\u001b[33mGET /favicon.ico HTTP/1.1\u001b[0m\" 404 -\n",
      "127.0.0.1 - - [21/Mar/2020 04:11:37] \"\u001b[37mGET /api/data/ksa HTTP/1.1\u001b[0m\" 200 -\n"
     ]
    }
   ],
   "source": [
    "if __name__ == '__main__':\n",
    "    app.run()"
   ]
  }
 ],
 "metadata": {
  "kernelspec": {
   "display_name": "Python 3",
   "language": "python",
   "name": "python3"
  },
  "language_info": {
   "codemirror_mode": {
    "name": "ipython",
    "version": 3
   },
   "file_extension": ".py",
   "mimetype": "text/x-python",
   "name": "python",
   "nbconvert_exporter": "python",
   "pygments_lexer": "ipython3",
   "version": "3.7.4"
  }
 },
 "nbformat": 4,
 "nbformat_minor": 2
}
